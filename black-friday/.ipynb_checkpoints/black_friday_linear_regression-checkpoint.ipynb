{
 "cells": [
  {
   "cell_type": "code",
   "execution_count": 1,
   "metadata": {},
   "outputs": [],
   "source": [
    "import pandas as pd\n",
    "import numpy as np\n",
    "import matplotlib.pyplot as plt\n",
    "import seaborn as sns\n",
    "import statsmodels.api as sm\n",
    "from statsmodels.stats.outliers_influence import variance_inflation_factor\n",
    "from sklearn.linear_model import LinearRegression\n",
    "from sklearn.model_selection import train_test_split\n",
    "import warnings\n",
    "from sklearn.model_selection import cross_val_score"
   ]
  },
  {
   "cell_type": "code",
   "execution_count": 2,
   "metadata": {},
   "outputs": [],
   "source": [
    "%matplotlib inline\n",
    "warnings.filterwarnings('ignore')\n",
    "sns.set_style(\"darkgrid\", {\"axes.facecolor\": \".9\"})"
   ]
  },
  {
   "cell_type": "markdown",
   "metadata": {},
   "source": [
    "Method to fit model and get predicted values"
   ]
  },
  {
   "cell_type": "code",
   "execution_count": 3,
   "metadata": {},
   "outputs": [],
   "source": [
    "def model(X,Y):\n",
    "    model = sm.OLS(Y,sm.add_constant(X))\n",
    "    results = model.fit()\n",
    "    print(results.summary())\n",
    "    X_train,X_test,y_train,y_test = train_test_split(X,Y,random_state=10,test_size=0.3)\n",
    "    lr = LinearRegression()\n",
    "    lr.fit(X_train,y_train)\n",
    "    scores = cross_val_score(lr, X_test,y_test, cv=2)\n",
    "    print(\" ****Score********* \"+ str(lr.score(X_test,y_test)))\n",
    "    print(\" ****Intercept***** \"+str(lr.intercept_))\n",
    "    print(\" ****Coefficient*** \"+str(lr.coef_))\n",
    "    print(\" ****Cross Validation Score********* \"+ str(scores))\n",
    "    predictions =lr.predict(X_test)\n",
    "    pred_df =pd.DataFrame({'y_test':y_test,'Predictions':predictions})\n",
    "    return pred_df"
   ]
  },
  {
   "cell_type": "code",
   "execution_count": 4,
   "metadata": {},
   "outputs": [],
   "source": [
    "def product_type(cols,*args) :\n",
    "    value = args[0]\n",
    "    product1 = cols[0]\n",
    "    product2 = cols[1]\n",
    "    product3 = cols[2]\n",
    "    if ((product1==value) or (product2==value) or (product3==value)) :\n",
    "        return 1\n",
    "    else:\n",
    "        return 0"
   ]
  },
  {
   "cell_type": "code",
   "execution_count": 5,
   "metadata": {},
   "outputs": [],
   "source": [
    "df = pd.read_csv('BlackFriday.csv')"
   ]
  },
  {
   "cell_type": "code",
   "execution_count": 6,
   "metadata": {},
   "outputs": [
    {
     "data": {
      "text/plain": [
       "(537577, 12)"
      ]
     },
     "execution_count": 6,
     "metadata": {},
     "output_type": "execute_result"
    }
   ],
   "source": [
    "df.shape"
   ]
  },
  {
   "cell_type": "code",
   "execution_count": 7,
   "metadata": {},
   "outputs": [
    {
     "data": {
      "text/html": [
       "<div>\n",
       "<style scoped>\n",
       "    .dataframe tbody tr th:only-of-type {\n",
       "        vertical-align: middle;\n",
       "    }\n",
       "\n",
       "    .dataframe tbody tr th {\n",
       "        vertical-align: top;\n",
       "    }\n",
       "\n",
       "    .dataframe thead th {\n",
       "        text-align: right;\n",
       "    }\n",
       "</style>\n",
       "<table border=\"1\" class=\"dataframe\">\n",
       "  <thead>\n",
       "    <tr style=\"text-align: right;\">\n",
       "      <th></th>\n",
       "      <th>User_ID</th>\n",
       "      <th>Product_ID</th>\n",
       "      <th>Gender</th>\n",
       "      <th>Age</th>\n",
       "      <th>Occupation</th>\n",
       "      <th>City_Category</th>\n",
       "      <th>Stay_In_Current_City_Years</th>\n",
       "      <th>Marital_Status</th>\n",
       "      <th>Product_Category_1</th>\n",
       "      <th>Product_Category_2</th>\n",
       "      <th>Product_Category_3</th>\n",
       "      <th>Purchase</th>\n",
       "    </tr>\n",
       "  </thead>\n",
       "  <tbody>\n",
       "    <tr>\n",
       "      <th>0</th>\n",
       "      <td>1000001</td>\n",
       "      <td>P00069042</td>\n",
       "      <td>F</td>\n",
       "      <td>0-17</td>\n",
       "      <td>10</td>\n",
       "      <td>A</td>\n",
       "      <td>2</td>\n",
       "      <td>0</td>\n",
       "      <td>3</td>\n",
       "      <td>NaN</td>\n",
       "      <td>NaN</td>\n",
       "      <td>8370</td>\n",
       "    </tr>\n",
       "    <tr>\n",
       "      <th>1</th>\n",
       "      <td>1000001</td>\n",
       "      <td>P00248942</td>\n",
       "      <td>F</td>\n",
       "      <td>0-17</td>\n",
       "      <td>10</td>\n",
       "      <td>A</td>\n",
       "      <td>2</td>\n",
       "      <td>0</td>\n",
       "      <td>1</td>\n",
       "      <td>6.0</td>\n",
       "      <td>14.0</td>\n",
       "      <td>15200</td>\n",
       "    </tr>\n",
       "    <tr>\n",
       "      <th>2</th>\n",
       "      <td>1000001</td>\n",
       "      <td>P00087842</td>\n",
       "      <td>F</td>\n",
       "      <td>0-17</td>\n",
       "      <td>10</td>\n",
       "      <td>A</td>\n",
       "      <td>2</td>\n",
       "      <td>0</td>\n",
       "      <td>12</td>\n",
       "      <td>NaN</td>\n",
       "      <td>NaN</td>\n",
       "      <td>1422</td>\n",
       "    </tr>\n",
       "    <tr>\n",
       "      <th>3</th>\n",
       "      <td>1000001</td>\n",
       "      <td>P00085442</td>\n",
       "      <td>F</td>\n",
       "      <td>0-17</td>\n",
       "      <td>10</td>\n",
       "      <td>A</td>\n",
       "      <td>2</td>\n",
       "      <td>0</td>\n",
       "      <td>12</td>\n",
       "      <td>14.0</td>\n",
       "      <td>NaN</td>\n",
       "      <td>1057</td>\n",
       "    </tr>\n",
       "    <tr>\n",
       "      <th>4</th>\n",
       "      <td>1000002</td>\n",
       "      <td>P00285442</td>\n",
       "      <td>M</td>\n",
       "      <td>55+</td>\n",
       "      <td>16</td>\n",
       "      <td>C</td>\n",
       "      <td>4+</td>\n",
       "      <td>0</td>\n",
       "      <td>8</td>\n",
       "      <td>NaN</td>\n",
       "      <td>NaN</td>\n",
       "      <td>7969</td>\n",
       "    </tr>\n",
       "  </tbody>\n",
       "</table>\n",
       "</div>"
      ],
      "text/plain": [
       "   User_ID Product_ID Gender   Age  Occupation City_Category  \\\n",
       "0  1000001  P00069042      F  0-17          10             A   \n",
       "1  1000001  P00248942      F  0-17          10             A   \n",
       "2  1000001  P00087842      F  0-17          10             A   \n",
       "3  1000001  P00085442      F  0-17          10             A   \n",
       "4  1000002  P00285442      M   55+          16             C   \n",
       "\n",
       "  Stay_In_Current_City_Years  Marital_Status  Product_Category_1  \\\n",
       "0                          2               0                   3   \n",
       "1                          2               0                   1   \n",
       "2                          2               0                  12   \n",
       "3                          2               0                  12   \n",
       "4                         4+               0                   8   \n",
       "\n",
       "   Product_Category_2  Product_Category_3  Purchase  \n",
       "0                 NaN                 NaN      8370  \n",
       "1                 6.0                14.0     15200  \n",
       "2                 NaN                 NaN      1422  \n",
       "3                14.0                 NaN      1057  \n",
       "4                 NaN                 NaN      7969  "
      ]
     },
     "execution_count": 7,
     "metadata": {},
     "output_type": "execute_result"
    }
   ],
   "source": [
    "df.head()"
   ]
  },
  {
   "cell_type": "code",
   "execution_count": 8,
   "metadata": {},
   "outputs": [
    {
     "data": {
      "text/plain": [
       "5     148592\n",
       "1     138353\n",
       "8     112132\n",
       "11     23960\n",
       "2      23499\n",
       "6      20164\n",
       "3      19849\n",
       "4      11567\n",
       "16      9697\n",
       "15      6203\n",
       "13      5440\n",
       "10      5032\n",
       "12      3875\n",
       "7       3668\n",
       "18      3075\n",
       "14      1500\n",
       "17       567\n",
       "9        404\n",
       "Name: Product_Category_1, dtype: int64"
      ]
     },
     "execution_count": 8,
     "metadata": {},
     "output_type": "execute_result"
    }
   ],
   "source": [
    "df['Product_Category_1'].value_counts()"
   ]
  },
  {
   "cell_type": "code",
   "execution_count": 9,
   "metadata": {},
   "outputs": [],
   "source": [
    "df['Product_Type1']=df[['Product_Category_1','Product_Category_2',\n",
    "                        'Product_Category_3']].apply(product_type,axis=1,args=(1,))"
   ]
  },
  {
   "cell_type": "code",
   "execution_count": 10,
   "metadata": {},
   "outputs": [],
   "source": [
    "df['Product_Type2']=df[['Product_Category_1','Product_Category_2',\n",
    "                        'Product_Category_3']].apply(product_type,axis=1,args=(2,))"
   ]
  },
  {
   "cell_type": "code",
   "execution_count": 11,
   "metadata": {},
   "outputs": [],
   "source": [
    "df['Product_Type3']=df[['Product_Category_1','Product_Category_2',\n",
    "                        'Product_Category_3']].apply(product_type,axis=1,args=(3,))"
   ]
  },
  {
   "cell_type": "code",
   "execution_count": 12,
   "metadata": {},
   "outputs": [],
   "source": [
    "df['Product_Type4']=df[['Product_Category_1','Product_Category_2',\n",
    "                        'Product_Category_3']].apply(product_type,axis=1,args=(4,))"
   ]
  },
  {
   "cell_type": "code",
   "execution_count": 13,
   "metadata": {},
   "outputs": [],
   "source": [
    "df['Product_Type5']=df[['Product_Category_1','Product_Category_2',\n",
    "                        'Product_Category_3']].apply(product_type,axis=1,args=(5,))"
   ]
  },
  {
   "cell_type": "code",
   "execution_count": 14,
   "metadata": {},
   "outputs": [],
   "source": [
    "df['Product_Type6']=df[['Product_Category_1','Product_Category_2',\n",
    "                        'Product_Category_3']].apply(product_type,axis=1,args=(6,))"
   ]
  },
  {
   "cell_type": "code",
   "execution_count": 15,
   "metadata": {},
   "outputs": [],
   "source": [
    "df['Product_Type7']=df[['Product_Category_1','Product_Category_2',\n",
    "                        'Product_Category_3']].apply(product_type,axis=1,args=(7,))"
   ]
  },
  {
   "cell_type": "code",
   "execution_count": 16,
   "metadata": {},
   "outputs": [],
   "source": [
    "df['Product_Type8']=df[['Product_Category_1','Product_Category_2',\n",
    "                        'Product_Category_3']].apply(product_type,axis=1,args=(8,))"
   ]
  },
  {
   "cell_type": "code",
   "execution_count": 17,
   "metadata": {},
   "outputs": [],
   "source": [
    "df['Product_Type9']=df[['Product_Category_1','Product_Category_2',\n",
    "                        'Product_Category_3']].apply(product_type,axis=1,args=(9,))"
   ]
  },
  {
   "cell_type": "code",
   "execution_count": 18,
   "metadata": {},
   "outputs": [],
   "source": [
    "df['Product_Type10']=df[['Product_Category_1','Product_Category_2',\n",
    "                        'Product_Category_3']].apply(product_type,axis=1,args=(10,))"
   ]
  },
  {
   "cell_type": "code",
   "execution_count": 19,
   "metadata": {},
   "outputs": [],
   "source": [
    "df['Product_Type11']=df[['Product_Category_1','Product_Category_2',\n",
    "                        'Product_Category_3']].apply(product_type,axis=1,args=(11,))"
   ]
  },
  {
   "cell_type": "code",
   "execution_count": 20,
   "metadata": {},
   "outputs": [],
   "source": [
    "df['Product_Type12']=df[['Product_Category_1','Product_Category_2',\n",
    "                        'Product_Category_3']].apply(product_type,axis=1,args=(12,))"
   ]
  },
  {
   "cell_type": "code",
   "execution_count": 21,
   "metadata": {},
   "outputs": [],
   "source": [
    "df['Product_Type13']=df[['Product_Category_1','Product_Category_2',\n",
    "                        'Product_Category_3']].apply(product_type,axis=1,args=(13,))"
   ]
  },
  {
   "cell_type": "code",
   "execution_count": 22,
   "metadata": {},
   "outputs": [],
   "source": [
    "df['Product_Type14']=df[['Product_Category_1','Product_Category_2',\n",
    "                        'Product_Category_3']].apply(product_type,axis=1,args=(14,))"
   ]
  },
  {
   "cell_type": "code",
   "execution_count": 23,
   "metadata": {},
   "outputs": [],
   "source": [
    "df['Product_Type15']=df[['Product_Category_1','Product_Category_2',\n",
    "                        'Product_Category_3']].apply(product_type,axis=1,args=(15,))"
   ]
  },
  {
   "cell_type": "code",
   "execution_count": 24,
   "metadata": {},
   "outputs": [],
   "source": [
    "df['Product_Type16']=df[['Product_Category_1','Product_Category_2',\n",
    "                        'Product_Category_3']].apply(product_type,axis=1,args=(16,))"
   ]
  },
  {
   "cell_type": "code",
   "execution_count": 25,
   "metadata": {},
   "outputs": [],
   "source": [
    "df['Product_Type17']=df[['Product_Category_1','Product_Category_2',\n",
    "                        'Product_Category_3']].apply(product_type,axis=1,args=(17,))"
   ]
  },
  {
   "cell_type": "code",
   "execution_count": 26,
   "metadata": {},
   "outputs": [],
   "source": [
    "df['Product_Type18']=df[['Product_Category_1','Product_Category_2',\n",
    "                        'Product_Category_3']].apply(product_type,axis=1,args=(18,))"
   ]
  },
  {
   "cell_type": "code",
   "execution_count": 27,
   "metadata": {},
   "outputs": [],
   "source": [
    "df['Total_Purchase']=df['Purchase']\n",
    "df.drop(labels=['Purchase','User_ID','Product_ID','Product_Category_1','Product_Category_2',\n",
    "                        'Product_Category_3'],axis=1,inplace=True)\n",
    "df['Gender'] = df['Gender'].map({'F':0,'M':1})"
   ]
  },
  {
   "cell_type": "code",
   "execution_count": 30,
   "metadata": {},
   "outputs": [
    {
     "data": {
      "text/plain": [
       "Index(['Gender', 'Age', 'Occupation', 'City_Category',\n",
       "       'Stay_In_Current_City_Years', 'Marital_Status', 'Product_Type1',\n",
       "       'Product_Type2', 'Product_Type3', 'Product_Type4', 'Product_Type5',\n",
       "       'Product_Type6', 'Product_Type7', 'Product_Type8', 'Product_Type9',\n",
       "       'Product_Type10', 'Product_Type11', 'Product_Type12', 'Product_Type13',\n",
       "       'Product_Type14', 'Product_Type15', 'Product_Type16', 'Product_Type17',\n",
       "       'Product_Type18', 'Total_Purchase'],\n",
       "      dtype='object')"
      ]
     },
     "execution_count": 30,
     "metadata": {},
     "output_type": "execute_result"
    }
   ],
   "source": [
    "df.columns"
   ]
  },
  {
   "cell_type": "code",
   "execution_count": 42,
   "metadata": {},
   "outputs": [
    {
     "name": "stdout",
     "output_type": "stream",
     "text": [
      "26-35    214690\n",
      "36-45    107499\n",
      "18-25     97634\n",
      "46-50     44526\n",
      "51-55     37618\n",
      "55+       20903\n",
      "0-17      14707\n",
      "Name: Age, dtype: int64\n"
     ]
    },
    {
     "data": {
      "text/plain": [
       "<matplotlib.axes._subplots.AxesSubplot at 0x1e95bfd87b8>"
      ]
     },
     "execution_count": 42,
     "metadata": {},
     "output_type": "execute_result"
    },
    {
     "data": {
      "image/png": "[encoded data removed]",
      "text/plain": [
       "<Figure size 432x288 with 1 Axes>"
      ]
     },
     "metadata": {},
     "output_type": "display_data"
    }
   ],
   "source": [
    "print(df.Age.value_counts())\n",
    "sns.boxplot(x='Age',y='Total_Purchase',data=df)"
   ]
  },
  {
   "cell_type": "code",
   "execution_count": 49,
   "metadata": {},
   "outputs": [
    {
     "name": "stdout",
     "output_type": "stream",
     "text": [
      "4     70862\n",
      "0     68120\n",
      "7     57806\n",
      "1     45971\n",
      "17    39090\n",
      "20    32910\n",
      "12    30423\n",
      "14    26712\n",
      "2     25845\n",
      "16    24790\n",
      "6     19822\n",
      "3     17366\n",
      "10    12623\n",
      "5     11985\n",
      "15    11812\n",
      "11    11338\n",
      "19     8352\n",
      "13     7548\n",
      "18     6525\n",
      "9      6153\n",
      "8      1524\n",
      "Name: Occupation, dtype: int64\n"
     ]
    },
    {
     "data": {
      "text/plain": [
       "<matplotlib.axes._subplots.AxesSubplot at 0x1e95cff1e48>"
      ]
     },
     "execution_count": 49,
     "metadata": {},
     "output_type": "execute_result"
    },
    {
     "data": {
      "image/png": "[encoded data removed]",
      "text/plain": [
       "<Figure size 432x288 with 1 Axes>"
      ]
     },
     "metadata": {},
     "output_type": "display_data"
    }
   ],
   "source": [
    "print(df.Occupation.value_counts())\n",
    "sns.boxplot(x='Occupation',y='Total_Purchase',data=df)"
   ]
  },
  {
   "cell_type": "code",
   "execution_count": 47,
   "metadata": {},
   "outputs": [
    {
     "name": "stdout",
     "output_type": "stream",
     "text": [
      "B    226493\n",
      "C    166446\n",
      "A    144638\n",
      "Name: City_Category, dtype: int64\n"
     ]
    },
    {
     "data": {
      "text/plain": [
       "<matplotlib.axes._subplots.AxesSubplot at 0x1e95d12ce48>"
      ]
     },
     "execution_count": 47,
     "metadata": {},
     "output_type": "execute_result"
    },
    {
     "data": {
      "image/png": "[encoded data removed]",
      "text/plain": [
       "<Figure size 432x288 with 1 Axes>"
      ]
     },
     "metadata": {},
     "output_type": "display_data"
    }
   ],
   "source": [
    "print(df.City_Category.value_counts())\n",
    "sns.boxplot(x='City_Category',y='Total_Purchase',data=df)"
   ]
  },
  {
   "cell_type": "code",
   "execution_count": 48,
   "metadata": {},
   "outputs": [
    {
     "name": "stdout",
     "output_type": "stream",
     "text": [
      "1     189192\n",
      "2      99459\n",
      "3      93312\n",
      "4+     82889\n",
      "0      72725\n",
      "Name: Stay_In_Current_City_Years, dtype: int64\n"
     ]
    },
    {
     "data": {
      "text/plain": [
       "<matplotlib.axes._subplots.AxesSubplot at 0x1e95e2aea90>"
      ]
     },
     "execution_count": 48,
     "metadata": {},
     "output_type": "execute_result"
    },
    {
     "data": {
      "image/png": "[encoded data removed]",
      "text/plain": [
       "<Figure size 432x288 with 1 Axes>"
      ]
     },
     "metadata": {},
     "output_type": "display_data"
    }
   ],
   "source": [
    "print(df.Stay_In_Current_City_Years.value_counts())\n",
    "sns.boxplot(x='Stay_In_Current_City_Years',y='Total_Purchase',data=df)"
   ]
  }
 ],
 "metadata": {
  "kernelspec": {
   "display_name": "Python 3",
   "language": "python",
   "name": "python3"
  },
  "language_info": {
   "codemirror_mode": {
    "name": "ipython",
    "version": 3
   },
   "file_extension": ".py",
   "mimetype": "text/x-python",
   "name": "python",
   "nbconvert_exporter": "python",
   "pygments_lexer": "ipython3",
   "version": "3.6.5"
  }
 },
 "nbformat": 4,
 "nbformat_minor": 2
}
