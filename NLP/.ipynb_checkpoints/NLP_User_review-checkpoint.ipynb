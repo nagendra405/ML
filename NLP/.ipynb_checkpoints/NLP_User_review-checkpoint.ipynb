{
 "cells": [
  {
   "cell_type": "code",
   "execution_count": 1,
   "metadata": {},
   "outputs": [
    {
     "name": "stderr",
     "output_type": "stream",
     "text": [
      "C:\\Users\\Dell\\Anaconda3\\lib\\site-packages\\sklearn\\cross_validation.py:41: DeprecationWarning: This module was deprecated in version 0.18 in favor of the model_selection module into which all the refactored classes and functions are moved. Also note that the interface of the new CV iterators are different from that of this module. This module will be removed in 0.20.\n",
      "  \"This module will be removed in 0.20.\", DeprecationWarning)\n"
     ]
    }
   ],
   "source": [
    "import warnings\n",
    "warnings.simplefilter('ignore')\n",
    "import pandas as pd\n",
    "import re\n",
    "import numpy as np\n",
    "from nltk.stem import PorterStemmer\n",
    "from nltk.corpus import stopwords\n",
    "from sklearn.feature_extraction.text import CountVectorizer,TfidfVectorizer\n",
    "from nltk.tokenize import word_tokenize\n",
    "from sklearn.ensemble import RandomForestClassifier\n",
    "from sklearn.naive_bayes import MultinomialNB\n",
    "from sklearn.metrics import classification_report\n",
    "from sklearn.cross_validation import train_test_split\n",
    "from sklearn.pipeline import Pipeline\n",
    "from sklearn.decomposition import PCA\n",
    "import seaborn as sns"
   ]
  },
  {
   "cell_type": "code",
   "execution_count": 13,
   "metadata": {},
   "outputs": [],
   "source": [
    "input_data = pd.read_csv(\"User_movie_review.csv\")"
   ]
  },
  {
   "cell_type": "code",
   "execution_count": 3,
   "metadata": {},
   "outputs": [
    {
     "data": {
      "text/html": [
       "<div>\n",
       "<style scoped>\n",
       "    .dataframe tbody tr th:only-of-type {\n",
       "        vertical-align: middle;\n",
       "    }\n",
       "\n",
       "    .dataframe tbody tr th {\n",
       "        vertical-align: top;\n",
       "    }\n",
       "\n",
       "    .dataframe thead th {\n",
       "        text-align: right;\n",
       "    }\n",
       "</style>\n",
       "<table border=\"1\" class=\"dataframe\">\n",
       "  <thead>\n",
       "    <tr style=\"text-align: right;\">\n",
       "      <th></th>\n",
       "      <th>class</th>\n",
       "      <th>text</th>\n",
       "    </tr>\n",
       "  </thead>\n",
       "  <tbody>\n",
       "    <tr>\n",
       "      <th>0</th>\n",
       "      <td>Pos</td>\n",
       "      <td>stuart little   is one of the best family ...</td>\n",
       "    </tr>\n",
       "    <tr>\n",
       "      <th>1</th>\n",
       "      <td>Neg</td>\n",
       "      <td>a movie like mortal kombat   annihilation wor...</td>\n",
       "    </tr>\n",
       "    <tr>\n",
       "      <th>2</th>\n",
       "      <td>Neg</td>\n",
       "      <td>and just when you thought joblo was getting a...</td>\n",
       "    </tr>\n",
       "    <tr>\n",
       "      <th>3</th>\n",
       "      <td>Pos</td>\n",
       "      <td>every now and then a movie comes along from a...</td>\n",
       "    </tr>\n",
       "    <tr>\n",
       "      <th>4</th>\n",
       "      <td>Neg</td>\n",
       "      <td>for about twenty minutes into mission impossi...</td>\n",
       "    </tr>\n",
       "  </tbody>\n",
       "</table>\n",
       "</div>"
      ],
      "text/plain": [
       "  class                                               text\n",
       "0   Pos      stuart little   is one of the best family ...\n",
       "1   Neg   a movie like mortal kombat   annihilation wor...\n",
       "2   Neg   and just when you thought joblo was getting a...\n",
       "3   Pos   every now and then a movie comes along from a...\n",
       "4   Neg   for about twenty minutes into mission impossi..."
      ]
     },
     "execution_count": 3,
     "metadata": {},
     "output_type": "execute_result"
    }
   ],
   "source": [
    "input_data.head()"
   ]
  },
  {
   "cell_type": "code",
   "execution_count": 4,
   "metadata": {},
   "outputs": [
    {
     "data": {
      "text/plain": [
       "Pos    1000\n",
       "Neg    1000\n",
       "Name: class, dtype: int64"
      ]
     },
     "execution_count": 4,
     "metadata": {},
     "output_type": "execute_result"
    }
   ],
   "source": [
    "input_data['class'].value_counts()"
   ]
  },
  {
   "cell_type": "code",
   "execution_count": 5,
   "metadata": {},
   "outputs": [],
   "source": [
    "def tokenization(text) :\n",
    "    stemmer = PorterStemmer()\n",
    "    text = re.sub('\\W+|\\d+|_',\" \",text)\n",
    "    text = stemmer.stem(text)\n",
    "    tokens = word_tokenize(text)\n",
    "    return tokens"
   ]
  },
  {
   "cell_type": "code",
   "execution_count": 6,
   "metadata": {},
   "outputs": [
    {
     "name": "stdout",
     "output_type": "stream",
     "text": [
      "             precision    recall  f1-score   support\n",
      "\n",
      "        Neg       0.77      0.85      0.81        48\n",
      "        Pos       0.85      0.77      0.81        52\n",
      "\n",
      "avg / total       0.81      0.81      0.81       100\n",
      "\n"
     ]
    }
   ],
   "source": [
    "# Using CountVectorizer and MultinomialNB\n",
    "input_data_train= input_data[:1900]\n",
    "input_data_test = input_data[1900:]\n",
    "pipline = Pipeline([\n",
    "    ('vector',CountVectorizer(min_df=5,tokenizer=tokenization,stop_words=stopwords.words('english'))),\n",
    "    ('classifier',MultinomialNB())\n",
    "])\n",
    "pipline.fit(input_data_train['text'], input_data_train['class'])\n",
    "predict = pipline.predict(input_data_test['text'])\n",
    "print(classification_report(input_data_test['class'],predict))"
   ]
  },
  {
   "cell_type": "code",
   "execution_count": 7,
   "metadata": {},
   "outputs": [
    {
     "name": "stdout",
     "output_type": "stream",
     "text": [
      "             precision    recall  f1-score   support\n",
      "\n",
      "        Neg       0.84      0.88      0.86        48\n",
      "        Pos       0.88      0.85      0.86        52\n",
      "\n",
      "avg / total       0.86      0.86      0.86       100\n",
      "\n"
     ]
    }
   ],
   "source": [
    "# Using CountVectorizer and RandomForestClassifier\n",
    "input_data_train= input_data[:1900]\n",
    "input_data_test = input_data[1900:]\n",
    "pipline = Pipeline([\n",
    "    ('vector',CountVectorizer(min_df=5,tokenizer=tokenization,stop_words=stopwords.words('english'))),\n",
    "    ('classifier',RandomForestClassifier(n_estimators=1500))\n",
    "])\n",
    "pipline.fit(input_data_train['text'], input_data_train['class'])\n",
    "predict = pipline.predict(input_data_test['text'])\n",
    "print(classification_report(input_data_test['class'],predict))"
   ]
  },
  {
   "cell_type": "code",
   "execution_count": 8,
   "metadata": {},
   "outputs": [
    {
     "name": "stdout",
     "output_type": "stream",
     "text": [
      "             precision    recall  f1-score   support\n",
      "\n",
      "        Neg       0.76      0.85      0.80        48\n",
      "        Pos       0.85      0.75      0.80        52\n",
      "\n",
      "avg / total       0.81      0.80      0.80       100\n",
      "\n"
     ]
    }
   ],
   "source": [
    "# Using TfidfVectorizer and MultinomialNB\n",
    "input_data_train= input_data[:1900]\n",
    "input_data_test = input_data[1900 :]\n",
    "pipline = Pipeline([\n",
    "    ('vector',TfidfVectorizer(min_df=5,tokenizer=tokenization,stop_words=stopwords.words('english'))),\n",
    "    ('classifier',MultinomialNB())\n",
    "])\n",
    "pipline.fit(input_data_train['text'], input_data_train['class'])\n",
    "predict = pipline.predict(input_data_test['text'])\n",
    "print(classification_report(input_data_test['class'],predict))"
   ]
  },
  {
   "cell_type": "code",
   "execution_count": 9,
   "metadata": {},
   "outputs": [
    {
     "name": "stdout",
     "output_type": "stream",
     "text": [
      "             precision    recall  f1-score   support\n",
      "\n",
      "        Neg       0.76      0.92      0.83        48\n",
      "        Pos       0.90      0.73      0.81        52\n",
      "\n",
      "avg / total       0.83      0.82      0.82       100\n",
      "\n"
     ]
    }
   ],
   "source": [
    "# Using TfidfVectorizer and RandomForestClassifier\n",
    "input_data_train= input_data[:1900]\n",
    "input_data_test = input_data[1900 :]\n",
    "pipline = Pipeline([\n",
    "    ('vector',TfidfVectorizer(min_df=5,tokenizer=tokenization,stop_words=stopwords.words('english'))),\n",
    "    ('classifier',RandomForestClassifier(n_estimators=1500))\n",
    "])\n",
    "pipline.fit(input_data_train['text'], input_data_train['class'])\n",
    "predict = pipline.predict(input_data_test['text'])\n",
    "print(classification_report(input_data_test['class'],predict))"
   ]
  },
  {
   "cell_type": "code",
   "execution_count": 10,
   "metadata": {},
   "outputs": [],
   "source": [
    "tfidf = TfidfVectorizer(min_df=5,tokenizer=tokenization,stop_words=stopwords.words('english'))\n",
    "df_tfidf = pd.DataFrame(data=tfidf.fit_transform(input_data_train['text']).toarray(),columns=tfidf.get_feature_names())\n",
    "df_tfidf['class'] = input_data_train['class']"
   ]
  },
  {
   "cell_type": "code",
   "execution_count": 11,
   "metadata": {},
   "outputs": [],
   "source": [
    "pca = PCA(n_components=2,random_state=0)\n",
    "components =pd.DataFrame(pca.fit_transform(df_tfidf.drop(['class'], axis=1)),columns=['component1','component2'])\n",
    "components['out'] = df_tfidf['class']"
   ]
  },
  {
   "cell_type": "code",
   "execution_count": 12,
   "metadata": {},
   "outputs": [
    {
     "data": {
      "text/plain": [
       "<seaborn.axisgrid.FacetGrid at 0x121e2d30978>"
      ]
     },
     "execution_count": 12,
     "metadata": {},
     "output_type": "execute_result"
    },
    {
     "data": {
      "image/png": "[encoded data removed]",
      "text/plain": [
       "<Figure size 416x360 with 1 Axes>"
      ]
     },
     "metadata": {},
     "output_type": "display_data"
    }
   ],
   "source": [
    "sns.lmplot(data=components,x='component1',y='component2',fit_reg=False,hue='out')"
   ]
  },
  {
   "cell_type": "code",
   "execution_count": null,
   "metadata": {},
   "outputs": [],
   "source": []
  }
 ],
 "metadata": {
  "kernelspec": {
   "display_name": "Python 3",
   "language": "python",
   "name": "python3"
  },
  "language_info": {
   "codemirror_mode": {
    "name": "ipython",
    "version": 3
   },
   "file_extension": ".py",
   "mimetype": "text/x-python",
   "name": "python",
   "nbconvert_exporter": "python",
   "pygments_lexer": "ipython3",
   "version": "3.6.5"
  }
 },
 "nbformat": 4,
 "nbformat_minor": 2
}
